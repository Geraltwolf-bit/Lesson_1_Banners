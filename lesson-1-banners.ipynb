{
 "cells": [
  {
   "cell_type": "code",
   "execution_count": 1,
   "id": "fc2baa59",
   "metadata": {
    "_cell_guid": "b1076dfc-b9ad-4769-8c92-a6c4dae69d19",
    "_uuid": "8f2839f25d086af736a60e9eeb907d3b93b6e0e5",
    "execution": {
     "iopub.execute_input": "2025-08-10T19:15:14.090444Z",
     "iopub.status.busy": "2025-08-10T19:15:14.090128Z",
     "iopub.status.idle": "2025-08-10T19:15:15.845917Z",
     "shell.execute_reply": "2025-08-10T19:15:15.845083Z"
    },
    "papermill": {
     "duration": 1.761875,
     "end_time": "2025-08-10T19:15:15.847537",
     "exception": false,
     "start_time": "2025-08-10T19:15:14.085662",
     "status": "completed"
    },
    "tags": []
   },
   "outputs": [],
   "source": [
    "# This Python 3 environment comes with many helpful analytics libraries installed\n",
    "# It is defined by the kaggle/python Docker image: https://github.com/kaggle/docker-python\n",
    "# For example, here's several helpful packages to load\n",
    "\n",
    "import numpy as np # linear algebra\n",
    "import pandas as pd # data processing, CSV file I/O (e.g. pd.read_csv)\n",
    "\n",
    "# Input data files are available in the read-only \"../input/\" directory\n",
    "# For example, running this (by clicking run or pressing Shift+Enter) will list all files under the input directory\n",
    "\n",
    "import os\n",
    "for dirname, _, filenames in os.walk('/kaggle/input'):\n",
    "    for filename in filenames:\n",
    "        print(os.path.join(dirname, filename))\n",
    "\n",
    "# You can write up to 20GB to the current directory (/kaggle/working/) that gets preserved as output when you create a version using \"Save & Run All\" \n",
    "# You can also write temporary files to /kaggle/temp/, but they won't be saved outside of the current session"
   ]
  },
  {
   "cell_type": "code",
   "execution_count": 2,
   "id": "32bb9b0a",
   "metadata": {
    "execution": {
     "iopub.execute_input": "2025-08-10T19:15:15.854680Z",
     "iopub.status.busy": "2025-08-10T19:15:15.854296Z",
     "iopub.status.idle": "2025-08-10T19:15:15.882848Z",
     "shell.execute_reply": "2025-08-10T19:15:15.882107Z"
    },
    "papermill": {
     "duration": 0.033633,
     "end_time": "2025-08-10T19:15:15.884390",
     "exception": false,
     "start_time": "2025-08-10T19:15:15.850757",
     "status": "completed"
    },
    "tags": []
   },
   "outputs": [
    {
     "data": {
      "text/html": [
       "<div>\n",
       "<style scoped>\n",
       "    .dataframe tbody tr th:only-of-type {\n",
       "        vertical-align: middle;\n",
       "    }\n",
       "\n",
       "    .dataframe tbody tr th {\n",
       "        vertical-align: top;\n",
       "    }\n",
       "\n",
       "    .dataframe thead th {\n",
       "        text-align: right;\n",
       "    }\n",
       "</style>\n",
       "<table border=\"1\" class=\"dataframe\">\n",
       "  <thead>\n",
       "    <tr style=\"text-align: right;\">\n",
       "      <th></th>\n",
       "      <th>user_id</th>\n",
       "      <th>banner</th>\n",
       "      <th>displays</th>\n",
       "      <th>clicks</th>\n",
       "      <th>channel</th>\n",
       "    </tr>\n",
       "  </thead>\n",
       "  <tbody>\n",
       "    <tr>\n",
       "      <th>0</th>\n",
       "      <td>1</td>\n",
       "      <td>101</td>\n",
       "      <td>10</td>\n",
       "      <td>4</td>\n",
       "      <td>web</td>\n",
       "    </tr>\n",
       "    <tr>\n",
       "      <th>1</th>\n",
       "      <td>2</td>\n",
       "      <td>102</td>\n",
       "      <td>20</td>\n",
       "      <td>0</td>\n",
       "      <td>mobile</td>\n",
       "    </tr>\n",
       "    <tr>\n",
       "      <th>2</th>\n",
       "      <td>3</td>\n",
       "      <td>101</td>\n",
       "      <td>3</td>\n",
       "      <td>3</td>\n",
       "      <td>web</td>\n",
       "    </tr>\n",
       "    <tr>\n",
       "      <th>3</th>\n",
       "      <td>4</td>\n",
       "      <td>103</td>\n",
       "      <td>5</td>\n",
       "      <td>1</td>\n",
       "      <td>web</td>\n",
       "    </tr>\n",
       "    <tr>\n",
       "      <th>4</th>\n",
       "      <td>5</td>\n",
       "      <td>102</td>\n",
       "      <td>12</td>\n",
       "      <td>0</td>\n",
       "      <td>mobile</td>\n",
       "    </tr>\n",
       "    <tr>\n",
       "      <th>5</th>\n",
       "      <td>6</td>\n",
       "      <td>101</td>\n",
       "      <td>23</td>\n",
       "      <td>7</td>\n",
       "      <td>web</td>\n",
       "    </tr>\n",
       "    <tr>\n",
       "      <th>6</th>\n",
       "      <td>7</td>\n",
       "      <td>103</td>\n",
       "      <td>6</td>\n",
       "      <td>4</td>\n",
       "      <td>mobile</td>\n",
       "    </tr>\n",
       "    <tr>\n",
       "      <th>7</th>\n",
       "      <td>8</td>\n",
       "      <td>104</td>\n",
       "      <td>9</td>\n",
       "      <td>6</td>\n",
       "      <td>web</td>\n",
       "    </tr>\n",
       "    <tr>\n",
       "      <th>8</th>\n",
       "      <td>9</td>\n",
       "      <td>102</td>\n",
       "      <td>12</td>\n",
       "      <td>8</td>\n",
       "      <td>mobile</td>\n",
       "    </tr>\n",
       "    <tr>\n",
       "      <th>9</th>\n",
       "      <td>10</td>\n",
       "      <td>101</td>\n",
       "      <td>20</td>\n",
       "      <td>10</td>\n",
       "      <td>web</td>\n",
       "    </tr>\n",
       "  </tbody>\n",
       "</table>\n",
       "</div>"
      ],
      "text/plain": [
       "   user_id  banner  displays  clicks channel\n",
       "0        1     101        10       4     web\n",
       "1        2     102        20       0  mobile\n",
       "2        3     101         3       3     web\n",
       "3        4     103         5       1     web\n",
       "4        5     102        12       0  mobile\n",
       "5        6     101        23       7     web\n",
       "6        7     103         6       4  mobile\n",
       "7        8     104         9       6     web\n",
       "8        9     102        12       8  mobile\n",
       "9       10     101        20      10     web"
      ]
     },
     "execution_count": 2,
     "metadata": {},
     "output_type": "execute_result"
    }
   ],
   "source": [
    "df = pd.DataFrame({\n",
    "    'user_id':   [1, 2, 3, 4, 5, 6, 7, 8, 9, 10],\n",
    "    'banner':     [101, 102, 101, 103, 102, 101, 103, 104, 102, 101],\n",
    "    'displays': [10, 20, 3, 5, 12, 23, 6, 9, 12, 20],\n",
    "    'clicks': [4, 0, 3, 1, 0, 7, 4, 6, 8, 10],\n",
    "    'channel': ['web', 'mobile', 'web', 'web', 'mobile', 'web', 'mobile', 'web', 'mobile', 'web']\n",
    "})\n",
    "df"
   ]
  },
  {
   "cell_type": "markdown",
   "id": "157a2047",
   "metadata": {
    "papermill": {
     "duration": 0.002617,
     "end_time": "2025-08-10T19:15:15.890046",
     "exception": false,
     "start_time": "2025-08-10T19:15:15.887429",
     "status": "completed"
    },
    "tags": []
   },
   "source": [
    "Based on the provided dataset, find out:\n",
    "1) What banner is the most effective?\n",
    "2) What banner is the least effective?\n",
    "3) What channel is the most effective?\n",
    "4) What banner was the most effective for each channel?\n",
    "5) Draw bar-plot showing distribution across channels and banners."
   ]
  },
  {
   "cell_type": "markdown",
   "id": "c13a974d",
   "metadata": {
    "papermill": {
     "duration": 0.002634,
     "end_time": "2025-08-10T19:15:15.895290",
     "exception": false,
     "start_time": "2025-08-10T19:15:15.892656",
     "status": "completed"
    },
    "tags": []
   },
   "source": [
    "# 1. What banner is the most effective? The one with more clicks.\n",
    "# 2. What banner is the least effective? The one with less clicks.\n",
    "# Pivot_table and sort_values could help us find out."
   ]
  },
  {
   "cell_type": "code",
   "execution_count": 3,
   "id": "0028daaa",
   "metadata": {
    "execution": {
     "iopub.execute_input": "2025-08-10T19:15:15.901779Z",
     "iopub.status.busy": "2025-08-10T19:15:15.901511Z",
     "iopub.status.idle": "2025-08-10T19:15:15.933935Z",
     "shell.execute_reply": "2025-08-10T19:15:15.933192Z"
    },
    "papermill": {
     "duration": 0.037236,
     "end_time": "2025-08-10T19:15:15.935170",
     "exception": false,
     "start_time": "2025-08-10T19:15:15.897934",
     "status": "completed"
    },
    "tags": []
   },
   "outputs": [
    {
     "data": {
      "text/html": [
       "<div>\n",
       "<style scoped>\n",
       "    .dataframe tbody tr th:only-of-type {\n",
       "        vertical-align: middle;\n",
       "    }\n",
       "\n",
       "    .dataframe tbody tr th {\n",
       "        vertical-align: top;\n",
       "    }\n",
       "\n",
       "    .dataframe thead th {\n",
       "        text-align: right;\n",
       "    }\n",
       "</style>\n",
       "<table border=\"1\" class=\"dataframe\">\n",
       "  <thead>\n",
       "    <tr style=\"text-align: right;\">\n",
       "      <th></th>\n",
       "      <th>clicks</th>\n",
       "    </tr>\n",
       "    <tr>\n",
       "      <th>banner</th>\n",
       "      <th></th>\n",
       "    </tr>\n",
       "  </thead>\n",
       "  <tbody>\n",
       "    <tr>\n",
       "      <th>101</th>\n",
       "      <td>24</td>\n",
       "    </tr>\n",
       "    <tr>\n",
       "      <th>102</th>\n",
       "      <td>8</td>\n",
       "    </tr>\n",
       "    <tr>\n",
       "      <th>104</th>\n",
       "      <td>6</td>\n",
       "    </tr>\n",
       "    <tr>\n",
       "      <th>103</th>\n",
       "      <td>5</td>\n",
       "    </tr>\n",
       "  </tbody>\n",
       "</table>\n",
       "</div>"
      ],
      "text/plain": [
       "        clicks\n",
       "banner        \n",
       "101         24\n",
       "102          8\n",
       "104          6\n",
       "103          5"
      ]
     },
     "execution_count": 3,
     "metadata": {},
     "output_type": "execute_result"
    }
   ],
   "source": [
    "pd.pivot_table(data = df, index = 'banner', values = 'clicks',\n",
    "               aggfunc = 'sum').sort_values(by = 'clicks', ascending = False)"
   ]
  },
  {
   "cell_type": "code",
   "execution_count": 4,
   "id": "7b32c984",
   "metadata": {
    "execution": {
     "iopub.execute_input": "2025-08-10T19:15:15.941784Z",
     "iopub.status.busy": "2025-08-10T19:15:15.941525Z",
     "iopub.status.idle": "2025-08-10T19:15:16.314015Z",
     "shell.execute_reply": "2025-08-10T19:15:16.313135Z"
    },
    "papermill": {
     "duration": 0.377281,
     "end_time": "2025-08-10T19:15:16.315425",
     "exception": false,
     "start_time": "2025-08-10T19:15:15.938144",
     "status": "completed"
    },
    "tags": []
   },
   "outputs": [
    {
     "data": {
      "image/png": "[encoded data removed]",
      "text/plain": [
       "<Figure size 640x480 with 1 Axes>"
      ]
     },
     "metadata": {},
     "output_type": "display_data"
    }
   ],
   "source": [
    "#Let's visualize data and confirm that 101 is most effective, 103 is least effective:\n",
    "ax = df.groupby('banner')['clicks'].sum().sort_values(ascending = False).plot.bar()\n",
    "ax.set_ylabel('Clicks')\n",
    "ax.tick_params(axis = 'x', rotation = 45)"
   ]
  },
  {
   "cell_type": "code",
   "execution_count": 5,
   "id": "a3a8b145",
   "metadata": {
    "execution": {
     "iopub.execute_input": "2025-08-10T19:15:16.322975Z",
     "iopub.status.busy": "2025-08-10T19:15:16.322669Z",
     "iopub.status.idle": "2025-08-10T19:15:16.331866Z",
     "shell.execute_reply": "2025-08-10T19:15:16.331068Z"
    },
    "papermill": {
     "duration": 0.01442,
     "end_time": "2025-08-10T19:15:16.333290",
     "exception": false,
     "start_time": "2025-08-10T19:15:16.318870",
     "status": "completed"
    },
    "tags": []
   },
   "outputs": [
    {
     "name": "stdout",
     "output_type": "stream",
     "text": [
      "The most effctive banner is 101 with the number of clicks 24.\n",
      "The least effctive banner is 103 with the number of clicks 5.\n"
     ]
    }
   ],
   "source": [
    "#Finally, let's use idxmax and answer what banner is most effective and what is least effective:\n",
    "most_effective_banner = df.groupby('banner')['clicks'].sum().idxmax()\n",
    "max_num_clicks = df.groupby('banner')['clicks'].sum().max()\n",
    "least_effective_banner = df.groupby('banner')['clicks'].sum().idxmin()\n",
    "min_num_clicks = df.groupby('banner')['clicks'].sum().min()\n",
    "print(f\"The most effctive banner is {most_effective_banner} with the number of clicks {max_num_clicks}.\")\n",
    "print(f\"The least effctive banner is {least_effective_banner} with the number of clicks {min_num_clicks}.\")"
   ]
  },
  {
   "cell_type": "code",
   "execution_count": 6,
   "id": "2542d630",
   "metadata": {
    "execution": {
     "iopub.execute_input": "2025-08-10T19:15:16.340525Z",
     "iopub.status.busy": "2025-08-10T19:15:16.340266Z",
     "iopub.status.idle": "2025-08-10T19:15:16.349950Z",
     "shell.execute_reply": "2025-08-10T19:15:16.348857Z"
    },
    "papermill": {
     "duration": 0.014932,
     "end_time": "2025-08-10T19:15:16.351455",
     "exception": false,
     "start_time": "2025-08-10T19:15:16.336523",
     "status": "completed"
    },
    "tags": []
   },
   "outputs": [
    {
     "data": {
      "text/plain": [
       "channel\n",
       "web       31\n",
       "mobile    12\n",
       "Name: clicks, dtype: int64"
      ]
     },
     "execution_count": 6,
     "metadata": {},
     "output_type": "execute_result"
    }
   ],
   "source": [
    "# 3. What channel is the most effective? The one with more clicks.\n",
    "# 4. What banner was the most effective for each channel? The one that brought more clicks.\n",
    "df.groupby('channel')['clicks'].sum().sort_values(ascending = False)"
   ]
  },
  {
   "cell_type": "code",
   "execution_count": 7,
   "id": "ef3fef43",
   "metadata": {
    "execution": {
     "iopub.execute_input": "2025-08-10T19:15:16.359983Z",
     "iopub.status.busy": "2025-08-10T19:15:16.359718Z",
     "iopub.status.idle": "2025-08-10T19:15:16.367823Z",
     "shell.execute_reply": "2025-08-10T19:15:16.367169Z"
    },
    "papermill": {
     "duration": 0.013867,
     "end_time": "2025-08-10T19:15:16.369103",
     "exception": false,
     "start_time": "2025-08-10T19:15:16.355236",
     "status": "completed"
    },
    "tags": []
   },
   "outputs": [
    {
     "data": {
      "text/plain": [
       "banner  channel\n",
       "101     web        24\n",
       "102     mobile      8\n",
       "103     mobile      4\n",
       "        web         1\n",
       "104     web         6\n",
       "Name: clicks, dtype: int64"
      ]
     },
     "execution_count": 7,
     "metadata": {},
     "output_type": "execute_result"
    }
   ],
   "source": [
    "#So, web is the most effective channel with 31 clicks, against mobile 12.\n",
    "#But what banner is the most effective for each channel? Let's see:\n",
    "df.groupby(['banner', 'channel'])['clicks'].sum()"
   ]
  },
  {
   "cell_type": "code",
   "execution_count": 8,
   "id": "c90941ca",
   "metadata": {
    "execution": {
     "iopub.execute_input": "2025-08-10T19:15:16.377009Z",
     "iopub.status.busy": "2025-08-10T19:15:16.376441Z",
     "iopub.status.idle": "2025-08-10T19:15:16.386713Z",
     "shell.execute_reply": "2025-08-10T19:15:16.385855Z"
    },
    "papermill": {
     "duration": 0.015613,
     "end_time": "2025-08-10T19:15:16.388054",
     "exception": false,
     "start_time": "2025-08-10T19:15:16.372441",
     "status": "completed"
    },
    "tags": []
   },
   "outputs": [
    {
     "data": {
      "text/plain": [
       "banner\n",
       "101       (101, web)\n",
       "102    (102, mobile)\n",
       "103    (103, mobile)\n",
       "104       (104, web)\n",
       "Name: clicks, dtype: object"
      ]
     },
     "execution_count": 8,
     "metadata": {},
     "output_type": "execute_result"
    }
   ],
   "source": [
    "#Let's print the answer:\n",
    "channel_with_more_clicks_in_banner = (\n",
    "    df.groupby(['banner', 'channel'])['clicks'].sum().groupby('banner').idxmax()\n",
    ")\n",
    "channel_with_more_clicks_in_banner"
   ]
  },
  {
   "cell_type": "code",
   "execution_count": 9,
   "id": "d6ba1432",
   "metadata": {
    "execution": {
     "iopub.execute_input": "2025-08-10T19:15:16.395830Z",
     "iopub.status.busy": "2025-08-10T19:15:16.395559Z",
     "iopub.status.idle": "2025-08-10T19:15:16.400420Z",
     "shell.execute_reply": "2025-08-10T19:15:16.399486Z"
    },
    "papermill": {
     "duration": 0.010301,
     "end_time": "2025-08-10T19:15:16.401763",
     "exception": false,
     "start_time": "2025-08-10T19:15:16.391462",
     "status": "completed"
    },
    "tags": []
   },
   "outputs": [
    {
     "name": "stdout",
     "output_type": "stream",
     "text": [
      "Banner 101 is the most effective for channel 'web'\n",
      "Banner 102 is the most effective for channel 'mobile'\n",
      "Banner 103 is the most effective for channel 'mobile'\n",
      "Banner 104 is the most effective for channel 'web'\n"
     ]
    }
   ],
   "source": [
    "#Let's make the answer abundantly clear:\n",
    "for banner, channel in channel_with_more_clicks_in_banner:\n",
    "    print(f\"Banner {banner} is the most effective for channel '{channel}'\")"
   ]
  },
  {
   "cell_type": "code",
   "execution_count": 10,
   "id": "ab981302",
   "metadata": {
    "execution": {
     "iopub.execute_input": "2025-08-10T19:15:16.409728Z",
     "iopub.status.busy": "2025-08-10T19:15:16.409459Z",
     "iopub.status.idle": "2025-08-10T19:15:18.482869Z",
     "shell.execute_reply": "2025-08-10T19:15:18.482097Z"
    },
    "papermill": {
     "duration": 2.079125,
     "end_time": "2025-08-10T19:15:18.484419",
     "exception": false,
     "start_time": "2025-08-10T19:15:16.405294",
     "status": "completed"
    },
    "tags": []
   },
   "outputs": [
    {
     "data": {
      "image/png": "[encoded data removed]",
      "text/plain": [
       "<Figure size 640x480 with 1 Axes>"
      ]
     },
     "metadata": {},
     "output_type": "display_data"
    }
   ],
   "source": [
    "# 5. Draw bar-plot showing distribution across channels and banners.\n",
    "import matplotlib.pyplot as plt\n",
    "import seaborn as sns\n",
    "plot_data = df.groupby(['banner', 'channel'])['clicks'].sum().reset_index()\n",
    "sns.barplot(data = plot_data, x = 'banner', y = 'clicks', hue = 'channel', palette = {'web': 'blue', 'mobile': 'green'})\n",
    "plt.xlabel('Banner')\n",
    "plt.ylabel('Total Clicks')\n",
    "plt.title('Clicks by Banner and Channel')\n",
    "plt.xticks(rotation = 45)\n",
    "plt.tight_layout()\n",
    "plt.show()"
   ]
  }
 ],
 "metadata": {
  "kaggle": {
   "accelerator": "none",
   "dataSources": [],
   "dockerImageVersionId": 31089,
   "isGpuEnabled": false,
   "isInternetEnabled": true,
   "language": "python",
   "sourceType": "notebook"
  },
  "kernelspec": {
   "display_name": "Python 3",
   "language": "python",
   "name": "python3"
  },
  "language_info": {
   "codemirror_mode": {
    "name": "ipython",
    "version": 3
   },
   "file_extension": ".py",
   "mimetype": "text/x-python",
   "name": "python",
   "nbconvert_exporter": "python",
   "pygments_lexer": "ipython3",
   "version": "3.11.13"
  },
  "papermill": {
   "default_parameters": {},
   "duration": 9.761547,
   "end_time": "2025-08-10T19:15:19.107469",
   "environment_variables": {},
   "exception": null,
   "input_path": "__notebook__.ipynb",
   "output_path": "__notebook__.ipynb",
   "parameters": {},
   "start_time": "2025-08-10T19:15:09.345922",
   "version": "2.6.0"
  }
 },
 "nbformat": 4,
 "nbformat_minor": 5
}
